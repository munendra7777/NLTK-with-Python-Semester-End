{
 "cells": [
  {
   "cell_type": "markdown",
   "metadata": {},
   "source": [
    " - [x] **Munendra Kumar**\n",
    " - [x] **HOOMACL20170010**\n",
    " - [x] **M.A. Computational Linguistics**\n",
    " - [x] **Semester 3**\n",
    " - [x] **LS176: NLP with Python**\n",
    " - [x] **Course Instructor: Dr. Atreyee Sharma**"
   ]
  },
  {
   "cell_type": "markdown",
   "metadata": {},
   "source": [
    "### Section 1: Question 7: Define several variables containing lists of words, e.g., phrase1, phrase2, and so on. Join them together in various combinations (using the plus operator) to form whole sentences. What is the relationship between len(phrase1 + phrase2) and len(phrase1) + len(phrase2)?"
   ]
  },
  {
   "cell_type": "markdown",
   "metadata": {},
   "source": [
    "### Solution:"
   ]
  },
  {
   "cell_type": "code",
   "execution_count": 25,
   "metadata": {},
   "outputs": [],
   "source": [
    "phrase1=(['Hello','there!'])\n",
    "phrase2=(['Here','are','my','details','...'])\n",
    "phrase3=['Roll','No','---->','HOOMACL20170010']\n",
    "phrase4=[ 'Name' '---->' 'Munendra','.']\n",
    "phrase5=['Programme','---->','MA','Computational','Linguistics']\n",
    "phrase6=['Course','Code','---->','LS176']\n",
    "phrase7=['Course','Name','---->','NLP','with','Python']\n",
    "phrase8=['Course','Instructor','---->' ,'Dr.','Atreyee','Sharma']\n"
   ]
  },
  {
   "cell_type": "markdown",
   "metadata": {},
   "source": [
    "#### Joining strings while ignoring separators."
   ]
  },
  {
   "cell_type": "code",
   "execution_count": 26,
   "metadata": {},
   "outputs": [
    {
     "data": {
      "text/plain": [
       "'Hellothere!Herearemydetails...RollNo---->HOOMACL20170010Name---->Munendra.Programme---->MAComputationalLinguisticsCourseCode---->LS176CourseName---->NLPwithPythonCourseInstructor---->Dr.AtreyeeSharma'"
      ]
     },
     "execution_count": 26,
     "metadata": {},
     "output_type": "execute_result"
    }
   ],
   "source": [
    "''.join(phrase1+phrase2+phrase3+phrase4+phrase5+phrase6+phrase7+phrase8)"
   ]
  },
  {
   "cell_type": "markdown",
   "metadata": {},
   "source": [
    "#### Joining strings while maintaining whitespace separator."
   ]
  },
  {
   "cell_type": "code",
   "execution_count": 27,
   "metadata": {},
   "outputs": [
    {
     "data": {
      "text/plain": [
       "'Hello there! Here are my details ... Roll No ----> HOOMACL20170010 Name---->Munendra . Programme ----> MA Computational Linguistics Course Code ----> LS176 Course Name ----> NLP with Python Course Instructor ----> Dr. Atreyee Sharma'"
      ]
     },
     "execution_count": 27,
     "metadata": {},
     "output_type": "execute_result"
    }
   ],
   "source": [
    "' '.join(phrase1+phrase2+phrase3+phrase4+phrase5+phrase6+phrase7+phrase8)"
   ]
  },
  {
   "cell_type": "markdown",
   "metadata": {},
   "source": [
    "#### Joining strings while maintaining any other separator eg. ','."
   ]
  },
  {
   "cell_type": "code",
   "execution_count": 28,
   "metadata": {},
   "outputs": [
    {
     "data": {
      "text/plain": [
       "'Hello,there!,Here,are,my,details,...,Roll,No,---->,HOOMACL20170010,Name---->Munendra,.,Programme,---->,MA,Computational,Linguistics,Course,Code,---->,LS176,Course,Name,---->,NLP,with,Python,Course,Instructor,---->,Dr.,Atreyee,Sharma'"
      ]
     },
     "execution_count": 28,
     "metadata": {},
     "output_type": "execute_result"
    }
   ],
   "source": [
    "','.join(phrase1+phrase2+phrase3+phrase4+phrase5+phrase6+phrase7+phrase8) "
   ]
  },
  {
   "cell_type": "code",
   "execution_count": 29,
   "metadata": {},
   "outputs": [],
   "source": [
    "#### Calculating length"
   ]
  },
  {
   "cell_type": "code",
   "execution_count": 30,
   "metadata": {},
   "outputs": [
    {
     "data": {
      "text/plain": [
       "34"
      ]
     },
     "execution_count": 30,
     "metadata": {},
     "output_type": "execute_result"
    }
   ],
   "source": [
    "len(phrase1)+len(phrase2)+len(phrase3)+len(phrase4)+len(phrase5)+len(phrase6)+len(phrase7)+len(phrase8) \n",
    " #calculating length of the phrases"
   ]
  },
  {
   "cell_type": "code",
   "execution_count": 31,
   "metadata": {},
   "outputs": [
    {
     "data": {
      "text/plain": [
       "34"
      ]
     },
     "execution_count": 31,
     "metadata": {},
     "output_type": "execute_result"
    }
   ],
   "source": [
    "len(phrase1+phrase2+phrase3+phrase4+phrase5+phrase6+phrase7+phrase8) #calculating length of the phrases"
   ]
  },
  {
   "cell_type": "markdown",
   "metadata": {},
   "source": [
    "#### The Function len(phrase1)+len(phrase2)+len(phrase3)... is redundant and repetitive instead  function len(phrase1+phrase2+phrase3) is more convenient.  It is like calling 'len' function just once instead of calling it 'n' times."
   ]
  },
  {
   "cell_type": "markdown",
   "metadata": {},
   "source": [
    "### Section 2: Question 7: Write a function that finds the 50 most frequently occurring words of a text that are not stopwords."
   ]
  },
  {
   "cell_type": "code",
   "execution_count": 32,
   "metadata": {},
   "outputs": [
    {
     "data": {
      "text/plain": [
       "['austen-emma.txt',\n",
       " 'austen-persuasion.txt',\n",
       " 'austen-sense.txt',\n",
       " 'bible-kjv.txt',\n",
       " 'blake-poems.txt',\n",
       " 'bryant-stories.txt',\n",
       " 'burgess-busterbrown.txt',\n",
       " 'carroll-alice.txt',\n",
       " 'chesterton-ball.txt',\n",
       " 'chesterton-brown.txt',\n",
       " 'chesterton-thursday.txt',\n",
       " 'edgeworth-parents.txt',\n",
       " 'melville-moby_dick.txt',\n",
       " 'milton-paradise.txt',\n",
       " 'shakespeare-caesar.txt',\n",
       " 'shakespeare-hamlet.txt',\n",
       " 'shakespeare-macbeth.txt',\n",
       " 'whitman-leaves.txt']"
      ]
     },
     "execution_count": 32,
     "metadata": {},
     "output_type": "execute_result"
    }
   ],
   "source": [
    "import nltk\n",
    "nltk.corpus.gutenberg.fileids() # accessing gutenberg corpus"
   ]
  },
  {
   "cell_type": "code",
   "execution_count": 33,
   "metadata": {},
   "outputs": [],
   "source": [
    "\n",
    "from nltk.corpus import gutenberg #importing dependencies\n",
    "from nltk.corpus import stopwords\n",
    "from nltk.tokenize import sent_tokenize, word_tokenize"
   ]
  },
  {
   "cell_type": "code",
   "execution_count": 34,
   "metadata": {},
   "outputs": [],
   "source": [
    "text=nltk.data.load('/home/munendra/nltk_data/corpora/gutenberg/whitman-leaves.txt')\n",
    "#importing text from local disk"
   ]
  },
  {
   "cell_type": "code",
   "execution_count": 35,
   "metadata": {},
   "outputs": [
    {
     "name": "stdout",
     "output_type": "stream",
     "text": [
      "[Leaves of Grass by \n"
     ]
    }
   ],
   "source": [
    "print(text[:20]) \n",
    "# printing range [0-20] of the corpus"
   ]
  },
  {
   "cell_type": "code",
   "execution_count": 36,
   "metadata": {},
   "outputs": [
    {
     "data": {
      "text/plain": [
       "149203"
      ]
     },
     "execution_count": 36,
     "metadata": {},
     "output_type": "execute_result"
    }
   ],
   "source": [
    "tokens = word_tokenize(text)\n",
    "type(tokens)\n",
    "len(tokens)"
   ]
  },
  {
   "cell_type": "code",
   "execution_count": 37,
   "metadata": {},
   "outputs": [
    {
     "name": "stdout",
     "output_type": "stream",
     "text": [
      "['[', 'Leaves', 'of', 'Grass', 'by', 'Walt', 'Whitman', '1855', ']', 'Come']\n"
     ]
    }
   ],
   "source": [
    "print(tokens[:10])"
   ]
  },
  {
   "cell_type": "code",
   "execution_count": 38,
   "metadata": {},
   "outputs": [
    {
     "name": "stdout",
     "output_type": "stream",
     "text": [
      "['leaves', 'of', 'grass', 'by', 'walt', 'whitman', 'come', 'said', 'my', 'soul']\n",
      "['leaves', 'grass', 'walt', 'whitman', 'come', 'said', 'soul', 'verses', 'body', 'let']\n"
     ]
    }
   ],
   "source": [
    "import string\n",
    "tokens = [w.lower() for w in tokens]\n",
    "table = str.maketrans('', '', string.punctuation)\n",
    "stripped = [w.translate(table) for w in tokens]\n",
    "from nltk.corpus import stopwords\n",
    "words = [word for word in tokens if word.isalpha()]\n",
    "print(words[:10])\n",
    "stop_words = stopwords.words('english')\n",
    "my_stopwords=(['i','the','and','to','thy','you','in','of','thee','thou','us','these','this'])\n",
    "words = [w for w in words if not w in stop_words]\n",
    "words = [w for w in words if not w in my_stopwords]\n",
    "print(words[:10])\n",
    "\n",
    "import string\n",
    "table = str.maketrans('', '', string.punctuation)\n",
    "stripped = [w.translate(table) for w in words]"
   ]
  },
  {
   "cell_type": "code",
   "execution_count": 39,
   "metadata": {},
   "outputs": [
    {
     "name": "stdout",
     "output_type": "stream",
     "text": [
      "[('see', 432), ('one', 345), ('old', 275), ('shall', 263), ('yet', 262), ('love', 258), ('life', 256), ('soul', 242), ('earth', 241), ('man', 232), ('long', 224), ('night', 212), ('day', 185), ('men', 185), ('every', 180), ('death', 175), ('know', 174), ('come', 170), ('great', 160), ('time', 160), ('upon', 156), ('sea', 151), ('ever', 149), ('world', 149), ('many', 141), ('hear', 137), ('face', 130), ('like', 129), ('never', 128), ('hand', 126), ('give', 125), ('body', 124), ('pass', 119), ('good', 118), ('look', 118), ('young', 117), ('last', 116), ('well', 116), ('go', 114), ('land', 112), ('rest', 109), ('eyes', 107), ('sing', 105), ('nothing', 104), ('air', 104), ('far', 103), ('think', 103), ('women', 103), ('years', 102), ('song', 101)]\n"
     ]
    }
   ],
   "source": [
    "import matplotlib.pyplot as plt # importing dependencies\n",
    "import pandas as pd \n",
    "from collections import Counter # importing counter\n",
    "Counter = Counter(words)\n",
    "most_occur = Counter.most_common() \n",
    "print(most_occur[:50]) # Printing 50 most occuring words"
   ]
  },
  {
   "cell_type": "markdown",
   "metadata": {},
   "source": [
    "### Section 3: Question 3: Take any string and perform all the operations and justify your answers by giving reasons? (check section 3.2 from the book)"
   ]
  },
  {
   "cell_type": "markdown",
   "metadata": {},
   "source": [
    "#### First string input and calling string"
   ]
  },
  {
   "cell_type": "code",
   "execution_count": 40,
   "metadata": {},
   "outputs": [
    {
     "name": "stdout",
     "output_type": "stream",
     "text": [
      "Record 75% voting in Madhya Pradesh.\n"
     ]
    }
   ],
   "source": [
    "str1= 'Record 75% voting in Madhya Pradesh.'\n",
    "print (str1) #printing first string"
   ]
  },
  {
   "cell_type": "markdown",
   "metadata": {},
   "source": [
    "#### Second string input and calling string"
   ]
  },
  {
   "cell_type": "code",
   "execution_count": 41,
   "metadata": {},
   "outputs": [
    {
     "name": "stdout",
     "output_type": "stream",
     "text": [
      "A record 75 per cent voter turnout for the Madhya Pradesh's state Assembly polls that was marred by complaints of faulty EVMs with the BJP looking for a fourth straight term in a tough battle with a resurgent Congress which is eyeing a comeback after 15 years.\n"
     ]
    }
   ],
   "source": [
    "str2=\"A record 75 per cent voter turnout for the Madhya Pradesh's state Assembly polls that was marred by complaints of faulty EVMs with the BJP looking for a fourth straight term in a tough battle with a resurgent Congress which is eyeing a comeback after 15 years.\"\n",
    "print (str2) \n",
    "# printing second string"
   ]
  },
  {
   "cell_type": "markdown",
   "metadata": {},
   "source": [
    "#### Escaping a character  i.e. intendending "
   ]
  },
  {
   "cell_type": "code",
   "execution_count": 42,
   "metadata": {},
   "outputs": [
    {
     "name": "stdout",
     "output_type": "stream",
     "text": [
      "A record 75 per cent voter turnout for the Madhya Pradesh's state Assembly polls that was marred by complaints of faulty EVMs with the BJP looking for a fourth straight term in a tough battle with a resurgent Congress which is eyeing a comeback after 15 years.\n"
     ]
    }
   ],
   "source": [
    "str2=\"A record 75 per cent voter turnout for the Madhya Pradesh\\'s state Assembly polls that was marred by complaints of faulty EVMs with the BJP looking for a fourth straight term in a tough battle with a resurgent Congress which is eyeing a comeback after 15 years.\"\n",
    "print (str2) \n",
    "# printing a escaped character ''s' as in Madhya Pradesh's"
   ]
  },
  {
   "cell_type": "code",
   "execution_count": 43,
   "metadata": {},
   "outputs": [
    {
     "name": "stdout",
     "output_type": "stream",
     "text": [
      "A record 75 per cent voter turnout for the Madhya Pradesh's state Assembly polls that was marred by complaints of faulty EVMs with the BJP looking for a fourth straight term in a tough battle with a resurgent Congress which is eyeing a comeback after 15 years.\n"
     ]
    }
   ],
   "source": [
    "str2=\"A record 75 per cent voter turnout for the Madhya Pradesh's \"\\\n",
    "\"state Assembly polls that was marred by complaints \"\\\n",
    "\"of faulty EVMs with the BJP looking for a fourth \"\\\n",
    "\"straight term in a tough battle with a resurgent Congress \"\\\n",
    "\"which is eyeing a comeback after 15 years.\"\n",
    "print (str2) \n",
    "# printing string in new line to avoid the problem above\n",
    "# where whole string is in one line.\n",
    "# but this doesn't give the output in the new line."
   ]
  },
  {
   "cell_type": "code",
   "execution_count": 44,
   "metadata": {},
   "outputs": [
    {
     "name": "stdout",
     "output_type": "stream",
     "text": [
      "A record 75 per cent voter turnout for the Madhya Pradesh's\n",
      "state Assembly polls that was marred by complaints\n",
      "of faulty EVMs with the BJP looking for a fourth\n",
      "straight term in a tough battle with a resurgent Congress\n",
      "which is eyeing a comeback after 15 years.\n"
     ]
    }
   ],
   "source": [
    "str2=\"\"\"A record 75 per cent voter turnout for the Madhya Pradesh's\n",
    "state Assembly polls that was marred by complaints\n",
    "of faulty EVMs with the BJP looking for a fourth\n",
    "straight term in a tough battle with a resurgent Congress\n",
    "which is eyeing a comeback after 15 years.\"\"\"\n",
    "print (str2) \n",
    "# printing string in the user formatted new line \n",
    "#using ('''or \"\"\") triple quoted strings"
   ]
  },
  {
   "cell_type": "code",
   "execution_count": 45,
   "metadata": {},
   "outputs": [
    {
     "name": "stdout",
     "output_type": "stream",
     "text": [
      "A record 75 per cent voter turnout for the Madhya Pradesh's\n",
      "state Assembly polls that was marred by complaints\n",
      "of faulty EVMs with the BJP looking for a fourth\n",
      "straight term in a tough battle with a resurgent Congress\n",
      "which is eyeing a comeback after 15 years.A record 75 per cent voter turnout for the Madhya Pradesh's\n",
      "state Assembly polls that was marred by complaints\n",
      "of faulty EVMs with the BJP looking for a fourth\n",
      "straight term in a tough battle with a resurgent Congress\n",
      "which is eyeing a comeback after 15 years.Record 75% voting in Madhya Pradesh.Record 75% voting in Madhya Pradesh.Record 75% voting in Madhya Pradesh.Record 75% voting in Madhya Pradesh.Record 75% voting in Madhya Pradesh.\n"
     ]
    }
   ],
   "source": [
    "str2='''A record 75 per cent voter turnout for the Madhya Pradesh's\n",
    "state Assembly polls that was marred by complaints\n",
    "of faulty EVMs with the BJP looking for a fourth\n",
    "straight term in a tough battle with a resurgent Congress\n",
    "which is eyeing a comeback after 15 years.'''\n",
    "print (str2*2+str1*5) \n",
    "\n",
    "# printing combination of str2 twice \n",
    "# and combining str1 with str2 five times."
   ]
  },
  {
   "cell_type": "code",
   "execution_count": 46,
   "metadata": {},
   "outputs": [
    {
     "name": "stdout",
     "output_type": "stream",
     "text": [
      "Record 75% voting in Madhya Pradesh.A record 75 per cent voter turnout for the Madhya Pradesh's\n",
      "state Assembly polls that was marred by complaints\n",
      "of faulty EVMs with the BJP looking for a fourth\n",
      "straight term in a tough battle with a resurgent Congress\n",
      "which is eyeing a comeback after 15 years.\n"
     ]
    }
   ],
   "source": [
    "print(str1+str2) \n",
    "# printing combination of str1 and str2"
   ]
  },
  {
   "cell_type": "code",
   "execution_count": 47,
   "metadata": {},
   "outputs": [
    {
     "name": "stdout",
     "output_type": "stream",
     "text": [
      "R\n",
      "e\n",
      "c\n",
      "o\n",
      "r\n",
      "d\n",
      "Re\n",
      "Record 75%\n",
      "dict_keys(['r', 'e', 'c', 'o', 'd', 'v', 't', 'i', 'n', 'g', 'm', 'a', 'h', 'y', 'p', 's'])\n"
     ]
    },
    {
     "data": {
      "image/png": "[encoded data removed]",
      "text/plain": [
       "<Figure size 432x288 with 1 Axes>"
      ]
     },
     "metadata": {
      "needs_background": "light"
     },
     "output_type": "display_data"
    }
   ],
   "source": [
    "# Printing individual characters\n",
    "print(str1[0]) # printing character at index '0' in a string\n",
    "print(str1[1])# printing character at index '1' in a string\n",
    "print(str1[2])# printing character at index '2' in a string\n",
    "print(str1[3])# printing character at index '3' in a string\n",
    "print(str1[4])# printing character at index '4' in a string\n",
    "print(str1[5])# printing character at index '5' in a string\n",
    "\n",
    "# Printing a range of characters\n",
    "print(str1[0:2]) # printing range '0-2' characters in a string\n",
    "print(str1[0:10]) # printing range '0-10' characters in a string\n",
    "\n",
    "\n",
    "fdist = nltk.FreqDist(ch.lower() for ch in str1 if ch.isalpha()) #counter for characters in a string\n",
    "print (fdist.keys()) # printing most frequent characters from a string\n",
    "fdist.plot() # visualising most frequent characters from string\n",
    "\n"
   ]
  },
  {
   "cell_type": "code",
   "execution_count": 48,
   "metadata": {},
   "outputs": [
    {
     "data": {
      "text/plain": [
       "36"
      ]
     },
     "execution_count": 48,
     "metadata": {},
     "output_type": "execute_result"
    }
   ],
   "source": [
    "len (str1)"
   ]
  },
  {
   "cell_type": "code",
   "execution_count": 49,
   "metadata": {},
   "outputs": [
    {
     "name": "stdout",
     "output_type": "stream",
     "text": [
      "Record 75% voting in Madhya Pradesh\n"
     ]
    }
   ],
   "source": [
    "print(str1[-36:-1])"
   ]
  },
  {
   "cell_type": "code",
   "execution_count": 50,
   "metadata": {},
   "outputs": [
    {
     "name": "stdout",
     "output_type": "stream",
     "text": [
      "R\n",
      "e\n",
      "c\n",
      "o\n",
      "r\n",
      "d\n",
      " \n",
      "7\n",
      "5\n",
      "%\n",
      " \n",
      "v\n",
      "o\n",
      "t\n",
      "i\n",
      "n\n",
      "g\n",
      " \n",
      "i\n",
      "n\n",
      " \n",
      "M\n",
      "a\n",
      "d\n",
      "h\n",
      "y\n",
      "a\n",
      " \n",
      "P\n",
      "r\n",
      "a\n",
      "d\n",
      "e\n",
      "s\n",
      "h\n",
      ".\n"
     ]
    }
   ],
   "source": [
    "for char in str1:\n",
    "    print(char)    "
   ]
  },
  {
   "cell_type": "code",
   "execution_count": 51,
   "metadata": {},
   "outputs": [
    {
     "data": {
      "text/plain": [
       "1"
      ]
     },
     "execution_count": 51,
     "metadata": {},
     "output_type": "execute_result"
    }
   ],
   "source": [
    "str1.find('e') \n",
    "# finds index of first instance of string 'e' in str1"
   ]
  },
  {
   "cell_type": "code",
   "execution_count": 52,
   "metadata": {},
   "outputs": [
    {
     "data": {
      "text/plain": [
       "32"
      ]
     },
     "execution_count": 52,
     "metadata": {},
     "output_type": "execute_result"
    }
   ],
   "source": [
    "str1.rfind('e') \n",
    "# finds index of last instance of string 'e' in str1"
   ]
  },
  {
   "cell_type": "code",
   "execution_count": 53,
   "metadata": {},
   "outputs": [
    {
     "data": {
      "text/plain": [
       "1"
      ]
     },
     "execution_count": 53,
     "metadata": {},
     "output_type": "execute_result"
    }
   ],
   "source": [
    "str1.index('e') \n",
    "# finds index of first instance of string 'e' in str1"
   ]
  },
  {
   "cell_type": "code",
   "execution_count": 54,
   "metadata": {},
   "outputs": [
    {
     "data": {
      "text/plain": [
       "32"
      ]
     },
     "execution_count": 54,
     "metadata": {},
     "output_type": "execute_result"
    }
   ],
   "source": [
    "str1.rindex('e') \n",
    "# finds index of last instance of string 'e' in str1"
   ]
  },
  {
   "cell_type": "code",
   "execution_count": 55,
   "metadata": {},
   "outputs": [],
   "source": [
    "str4=''\n",
    "for i in str1 :\n",
    "    str4=str1.split() \n",
    "\n",
    "#storing string as a list"
   ]
  },
  {
   "cell_type": "code",
   "execution_count": 56,
   "metadata": {},
   "outputs": [
    {
     "name": "stdout",
     "output_type": "stream",
     "text": [
      "['Record', '75%', 'voting', 'in', 'Madhya', 'Pradesh.']\n"
     ]
    }
   ],
   "source": [
    "print (str4) # printing list"
   ]
  },
  {
   "cell_type": "code",
   "execution_count": 57,
   "metadata": {},
   "outputs": [
    {
     "name": "stdout",
     "output_type": "stream",
     "text": [
      "[\"A record 75 per cent voter turnout for the Madhya Pradesh's\", 'state Assembly polls that was marred by complaints', 'of faulty EVMs with the BJP looking for a fourth', 'straight term in a tough battle with a resurgent Congress', 'which is eyeing a comeback after 15 years.']\n"
     ]
    }
   ],
   "source": [
    "print(str2.splitlines()) # spliting lines "
   ]
  },
  {
   "cell_type": "code",
   "execution_count": 58,
   "metadata": {},
   "outputs": [
    {
     "name": "stdout",
     "output_type": "stream",
     "text": [
      "a record 75 per cent voter turnout for the madhya pradesh's\n",
      "state assembly polls that was marred by complaints\n",
      "of faulty evms with the bjp looking for a fourth\n",
      "straight term in a tough battle with a resurgent congress\n",
      "which is eyeing a comeback after 15 years.\n"
     ]
    }
   ],
   "source": [
    "print(str2.lower())  # printing string in lower case"
   ]
  },
  {
   "cell_type": "code",
   "execution_count": 59,
   "metadata": {},
   "outputs": [
    {
     "name": "stdout",
     "output_type": "stream",
     "text": [
      "A RECORD 75 PER CENT VOTER TURNOUT FOR THE MADHYA PRADESH'S\n",
      "STATE ASSEMBLY POLLS THAT WAS MARRED BY COMPLAINTS\n",
      "OF FAULTY EVMS WITH THE BJP LOOKING FOR A FOURTH\n",
      "STRAIGHT TERM IN A TOUGH BATTLE WITH A RESURGENT CONGRESS\n",
      "WHICH IS EYEING A COMEBACK AFTER 15 YEARS.\n"
     ]
    }
   ],
   "source": [
    "print(str2.upper())  \n",
    "# printing string in upper case"
   ]
  },
  {
   "cell_type": "code",
   "execution_count": 60,
   "metadata": {},
   "outputs": [
    {
     "name": "stdout",
     "output_type": "stream",
     "text": [
      "A Record 75 Per Cent Voter Turnout For The Madhya Pradesh'S\n",
      "State Assembly Polls That Was Marred By Complaints\n",
      "Of Faulty Evms With The Bjp Looking For A Fourth\n",
      "Straight Term In A Tough Battle With A Resurgent Congress\n",
      "Which Is Eyeing A Comeback After 15 Years.\n"
     ]
    }
   ],
   "source": [
    "print(str2.title()) \n",
    "# printing string in title case"
   ]
  },
  {
   "cell_type": "code",
   "execution_count": 61,
   "metadata": {},
   "outputs": [
    {
     "name": "stdout",
     "output_type": "stream",
     "text": [
      "A record 75 per cent voter turnout for the Madhya Pradesh's\n",
      "state Assembly polls that was marred by complaints\n",
      "of faulty EVMs with the BJP looking for a fourth\n",
      "straight term in a tough battle with a resurgent Congress\n",
      "which is eyeing a comeback after 15 years.\n"
     ]
    }
   ],
   "source": [
    "print(str2.strip()) \n",
    "#removing extra spaces if any using strip function"
   ]
  },
  {
   "cell_type": "code",
   "execution_count": 62,
   "metadata": {},
   "outputs": [
    {
     "name": "stdout",
     "output_type": "stream",
     "text": [
      "A huge record of 75 per cent voter turnout for the Madhya Pradesh's\n",
      "state Assembly polls that was marred by complaints\n",
      "of faulty EVMs with the BJP looking for a fourth\n",
      "straight term in a tough battle with a resurgent Congress\n",
      "which is eyeing a comeback after 15 years.\n"
     ]
    }
   ],
   "source": [
    "print(str2.replace('record','huge record of')) \n",
    "# using replace function to replace 'record' with 'huge record of'"
   ]
  },
  {
   "cell_type": "markdown",
   "metadata": {},
   "source": [
    "#### Difference between strings and Lists"
   ]
  },
  {
   "cell_type": "code",
   "execution_count": 63,
   "metadata": {},
   "outputs": [
    {
     "name": "stdout",
     "output_type": "stream",
     "text": [
      "Record 75% voting in Madhya Pradesh.\n",
      "['Record', '75%', 'voting', 'in', 'Madhya', 'Pradesh.']\n"
     ]
    }
   ],
   "source": [
    "print (str1) # this is a string\n",
    "print (str4) # this is a list"
   ]
  },
  {
   "cell_type": "code",
   "execution_count": 64,
   "metadata": {},
   "outputs": [
    {
     "name": "stdout",
     "output_type": "stream",
     "text": [
      "R\n",
      "Record\n"
     ]
    }
   ],
   "source": [
    "print(str1[0]) # at index 0 string output\n",
    "print(str4[0]) # at index 0 list output"
   ]
  },
  {
   "cell_type": "code",
   "execution_count": 65,
   "metadata": {},
   "outputs": [
    {
     "name": "stdout",
     "output_type": "stream",
     "text": [
      "Record\n",
      "['Record', '75%', 'voting', 'in', 'Madhya', 'Pradesh.']\n"
     ]
    }
   ],
   "source": [
    "print(str1[:6]) # from range 0-6 string output\n",
    "print(str4[:6]) # from range 0-6 list output"
   ]
  },
  {
   "cell_type": "code",
   "execution_count": 66,
   "metadata": {},
   "outputs": [
    {
     "name": "stdout",
     "output_type": "stream",
     "text": [
      "36\n",
      "6\n"
     ]
    }
   ],
   "source": [
    "print(len(str1)) # length of the string\n",
    "print(len(str4)) # length of the list"
   ]
  },
  {
   "cell_type": "markdown",
   "metadata": {},
   "source": [
    "#### So it is clear from above that strings store every single character including whitespaces as a string. While lists store every word excluding whitespaces"
   ]
  }
 ],
 "metadata": {
  "kernelspec": {
   "display_name": "Python 2",
   "language": "python",
   "name": "python2"
  },
  "language_info": {
   "codemirror_mode": {
    "name": "ipython",
    "version": 2
   },
   "file_extension": ".py",
   "mimetype": "text/x-python",
   "name": "python",
   "nbconvert_exporter": "python",
   "pygments_lexer": "ipython2",
   "version": "2.7.15"
  }
 },
 "nbformat": 4,
 "nbformat_minor": 2
}
